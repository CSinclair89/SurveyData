{
 "cells": [
  {
   "cell_type": "code",
   "execution_count": 189,
   "id": "f69f85a1",
   "metadata": {},
   "outputs": [],
   "source": [
    "import matplotlib.pyplot as plt\n",
    "import pandas as pd\n",
    "import numpy as np"
   ]
  },
  {
   "cell_type": "code",
   "execution_count": 190,
   "id": "6fc45dc1",
   "metadata": {
    "scrolled": false
   },
   "outputs": [
    {
     "data": {
      "text/html": [
       "<div>\n",
       "<style scoped>\n",
       "    .dataframe tbody tr th:only-of-type {\n",
       "        vertical-align: middle;\n",
       "    }\n",
       "\n",
       "    .dataframe tbody tr th {\n",
       "        vertical-align: top;\n",
       "    }\n",
       "\n",
       "    .dataframe thead th {\n",
       "        text-align: right;\n",
       "    }\n",
       "</style>\n",
       "<table border=\"1\" class=\"dataframe\">\n",
       "  <thead>\n",
       "    <tr style=\"text-align: right;\">\n",
       "      <th></th>\n",
       "      <th>year</th>\n",
       "      <th>income</th>\n",
       "    </tr>\n",
       "  </thead>\n",
       "  <tbody>\n",
       "    <tr>\n",
       "      <th>1613</th>\n",
       "      <td>1973</td>\n",
       "      <td>10000.0</td>\n",
       "    </tr>\n",
       "    <tr>\n",
       "      <th>1614</th>\n",
       "      <td>1973</td>\n",
       "      <td>7000.0</td>\n",
       "    </tr>\n",
       "    <tr>\n",
       "      <th>1615</th>\n",
       "      <td>1973</td>\n",
       "      <td>10000.0</td>\n",
       "    </tr>\n",
       "    <tr>\n",
       "      <th>1616</th>\n",
       "      <td>1973</td>\n",
       "      <td>10000.0</td>\n",
       "    </tr>\n",
       "    <tr>\n",
       "      <th>1617</th>\n",
       "      <td>1973</td>\n",
       "      <td>10000.0</td>\n",
       "    </tr>\n",
       "    <tr>\n",
       "      <th>...</th>\n",
       "      <td>...</td>\n",
       "      <td>...</td>\n",
       "    </tr>\n",
       "    <tr>\n",
       "      <th>68841</th>\n",
       "      <td>2021</td>\n",
       "      <td>8000.0</td>\n",
       "    </tr>\n",
       "    <tr>\n",
       "      <th>68842</th>\n",
       "      <td>2021</td>\n",
       "      <td>25000.0</td>\n",
       "    </tr>\n",
       "    <tr>\n",
       "      <th>68843</th>\n",
       "      <td>2021</td>\n",
       "      <td>25000.0</td>\n",
       "    </tr>\n",
       "    <tr>\n",
       "      <th>68844</th>\n",
       "      <td>2021</td>\n",
       "      <td>1000.0</td>\n",
       "    </tr>\n",
       "    <tr>\n",
       "      <th>68845</th>\n",
       "      <td>2021</td>\n",
       "      <td>25000.0</td>\n",
       "    </tr>\n",
       "  </tbody>\n",
       "</table>\n",
       "<p>60329 rows × 2 columns</p>\n",
       "</div>"
      ],
      "text/plain": [
       "       year   income\n",
       "1613   1973  10000.0\n",
       "1614   1973   7000.0\n",
       "1615   1973  10000.0\n",
       "1616   1973  10000.0\n",
       "1617   1973  10000.0\n",
       "...     ...      ...\n",
       "68841  2021   8000.0\n",
       "68842  2021  25000.0\n",
       "68843  2021  25000.0\n",
       "68844  2021   1000.0\n",
       "68845  2021  25000.0\n",
       "\n",
       "[60329 rows x 2 columns]"
      ]
     },
     "execution_count": 190,
     "metadata": {},
     "output_type": "execute_result"
    }
   ],
   "source": [
    "pd = pd.read_csv(\"week8gss.csv\", engine = \"python\", encoding = \"cp1252\")\n",
    "pd_timeseries = pd[[\"year\", \"income\"]]\n",
    "pd_timeseries = pd_timeseries[~(pd_timeseries[\"income\"].str.contains(\"Inapplicable\"))]\n",
    "pd_timeseries = pd_timeseries[~(pd_timeseries[\"income\"].str.contains(\"Do not Know\"))]\n",
    "pd_timeseries = pd_timeseries[~(pd_timeseries[\"income\"].str.contains(\"Refused\"))]\n",
    "pd_timeseries = pd_timeseries[~(pd_timeseries[\"income\"].str.contains(\"No answer\"))]\n",
    "pd_timeseries = pd_timeseries[~(pd_timeseries[\"income\"].str.contains(\"Skipped\"))]\n",
    "\n",
    "pd_timeseries[[\"income\"]] = pd_timeseries[[\"income\"]].replace('[\\$,]','',regex=True)\n",
    "pd_timeseries[[\"income\"]] = pd_timeseries[[\"income\"]].replace('Under 1000','0',regex=True)\n",
    "pd_timeseries[[\"income\"]] = pd_timeseries[[\"income\"]].replace('1000 to 2999','1000',regex=True)\n",
    "pd_timeseries[[\"income\"]] = pd_timeseries[[\"income\"]].replace('3000 to 3999','3000',regex=True)\n",
    "pd_timeseries[[\"income\"]] = pd_timeseries[[\"income\"]].replace('4000 to 4999','4000',regex=True)\n",
    "pd_timeseries[[\"income\"]] = pd_timeseries[[\"income\"]].replace('5000 to 5999','5000',regex=True)\n",
    "pd_timeseries[[\"income\"]] = pd_timeseries[[\"income\"]].replace('6000 to 6999','6000',regex=True)\n",
    "pd_timeseries[[\"income\"]] = pd_timeseries[[\"income\"]].replace('7000 to 7999','7000',regex=True)\n",
    "pd_timeseries[[\"income\"]] = pd_timeseries[[\"income\"]].replace('8000 to 9999','8000',regex=True)\n",
    "pd_timeseries[[\"income\"]] = pd_timeseries[[\"income\"]].replace('10000 to 14999','10000',regex=True)\n",
    "pd_timeseries[[\"income\"]] = pd_timeseries[[\"income\"]].replace('15000 to 19999','15000',regex=True)\n",
    "pd_timeseries[[\"income\"]] = pd_timeseries[[\"income\"]].replace('20000 to 24999','20000',regex=True)\n",
    "pd_timeseries[[\"income\"]] = pd_timeseries[[\"income\"]].replace('25000 or more','25000',regex=True)\n",
    "pd_timeseries[[\"income\"]] = pd_timeseries[[\"income\"]].astype(float)\n",
    "pd_timeseries"
   ]
  },
  {
   "cell_type": "code",
   "execution_count": 191,
   "id": "d8c6d65a",
   "metadata": {},
   "outputs": [
    {
     "data": {
      "text/html": [
       "<div>\n",
       "<style scoped>\n",
       "    .dataframe tbody tr th:only-of-type {\n",
       "        vertical-align: middle;\n",
       "    }\n",
       "\n",
       "    .dataframe tbody tr th {\n",
       "        vertical-align: top;\n",
       "    }\n",
       "\n",
       "    .dataframe thead th {\n",
       "        text-align: right;\n",
       "    }\n",
       "</style>\n",
       "<table border=\"1\" class=\"dataframe\">\n",
       "  <thead>\n",
       "    <tr style=\"text-align: right;\">\n",
       "      <th></th>\n",
       "      <th>year</th>\n",
       "      <th>income</th>\n",
       "      <th>rolling</th>\n",
       "    </tr>\n",
       "  </thead>\n",
       "  <tbody>\n",
       "    <tr>\n",
       "      <th>1613</th>\n",
       "      <td>1973</td>\n",
       "      <td>10000.0</td>\n",
       "      <td>NaN</td>\n",
       "    </tr>\n",
       "    <tr>\n",
       "      <th>1614</th>\n",
       "      <td>1973</td>\n",
       "      <td>7000.0</td>\n",
       "      <td>NaN</td>\n",
       "    </tr>\n",
       "    <tr>\n",
       "      <th>1615</th>\n",
       "      <td>1973</td>\n",
       "      <td>10000.0</td>\n",
       "      <td>NaN</td>\n",
       "    </tr>\n",
       "    <tr>\n",
       "      <th>1616</th>\n",
       "      <td>1973</td>\n",
       "      <td>10000.0</td>\n",
       "      <td>NaN</td>\n",
       "    </tr>\n",
       "    <tr>\n",
       "      <th>1617</th>\n",
       "      <td>1973</td>\n",
       "      <td>10000.0</td>\n",
       "      <td>NaN</td>\n",
       "    </tr>\n",
       "  </tbody>\n",
       "</table>\n",
       "</div>"
      ],
      "text/plain": [
       "      year   income  rolling\n",
       "1613  1973  10000.0      NaN\n",
       "1614  1973   7000.0      NaN\n",
       "1615  1973  10000.0      NaN\n",
       "1616  1973  10000.0      NaN\n",
       "1617  1973  10000.0      NaN"
      ]
     },
     "execution_count": 191,
     "metadata": {},
     "output_type": "execute_result"
    }
   ],
   "source": [
    "pd_timeseries[\"rolling\"] = pd_timeseries[\"income\"].rolling(100).mean()\n",
    "\n",
    "pd_timeseries.head()"
   ]
  },
  {
   "cell_type": "code",
   "execution_count": 192,
   "id": "485c8198",
   "metadata": {},
   "outputs": [
    {
     "data": {
      "image/png": "[encoded data removed]",
      "text/plain": [
       "<Figure size 700x350 with 1 Axes>"
      ]
     },
     "metadata": {},
     "output_type": "display_data"
    }
   ],
   "source": [
    "plt.plot(pd_timeseries[\"year\"], pd_timeseries[\"rolling\"])\n",
    "\n",
    "plt.show()"
   ]
  },
  {
   "cell_type": "code",
   "execution_count": null,
   "id": "944ec65e",
   "metadata": {},
   "outputs": [],
   "source": []
  }
 ],
 "metadata": {
  "kernelspec": {
   "display_name": "Python 3 (ipykernel)",
   "language": "python",
   "name": "python3"
  },
  "language_info": {
   "codemirror_mode": {
    "name": "ipython",
    "version": 3
   },
   "file_extension": ".py",
   "mimetype": "text/x-python",
   "name": "python",
   "nbconvert_exporter": "python",
   "pygments_lexer": "ipython3",
   "version": "3.9.13"
  }
 },
 "nbformat": 4,
 "nbformat_minor": 5
}
